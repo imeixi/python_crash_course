{
 "cells": [
  {
   "cell_type": "code",
   "execution_count": 2,
   "metadata": {},
   "outputs": [
    {
     "name": "stdout",
     "output_type": "stream",
     "text": [
      "Hello Admin, would you like to see a status report?\n",
      "Hello Tony, thank you for logging in again\n",
      "Hello Park, thank you for logging in again\n",
      "Hello Hawkeye, thank you for logging in again\n",
      "Hello Hawkeye, thank you for logging in again\n"
     ]
    }
   ],
   "source": [
    "# Exercise 5-8\n",
    "users = ['Admin', 'Tony', 'Park', 'Hawkeye', 'Hawkeye']\n",
    "for name in users:\n",
    "    if name.lower() == 'admin':\n",
    "        print('Hello ' + name + ', would you like to see a status report?')\n",
    "    else:\n",
    "        print('Hello ' + name + ', thank you for logging in again')"
   ]
  },
  {
   "cell_type": "code",
   "execution_count": 5,
   "metadata": {},
   "outputs": [
    {
     "name": "stdout",
     "output_type": "stream",
     "text": [
      "Hello Admin, would you like to see a status report?\n",
      "Hello Tony, thank you for logging in again\n",
      "Hello Park, thank you for logging in again\n",
      "Hello Hawkeye, thank you for logging in again\n",
      "Hello Hawkeye, thank you for logging in again\n"
     ]
    }
   ],
   "source": [
    "# Exercise 5-9\n",
    "users = ['Admin', 'Tony', 'Park', 'Hawkeye', 'Hawkeye']\n",
    "if not users:\n",
    "    print('We need to find some users.')\n",
    "else:\n",
    "    for name in users:\n",
    "        if name.lower() == 'admin':\n",
    "            print('Hello ' + name + ', would you like to see a status report?')\n",
    "        else:\n",
    "            print('Hello ' + name + ', thank you for logging in again')"
   ]
  },
  {
   "cell_type": "code",
   "execution_count": 10,
   "metadata": {},
   "outputs": [
    {
     "name": "stdout",
     "output_type": "stream",
     "text": [
      "park is already registered\n",
      "hawkeye is already registered\n",
      "Wanda can be registered.\n",
      "Natasha can be registered.\n"
     ]
    }
   ],
   "source": [
    "#Exercise 5-10\n",
    "current_users = ['Rogers', 'Tony', 'Park', 'Hawkeye', 'Hawkeye']\n",
    "new_users = ['park', 'hawkeye', 'Wanda', 'Natasha']\n",
    "for user in new_users:\n",
    "    if user.title() not in current_users:\n",
    "        print(user + ' can be registered.')\n",
    "    else:\n",
    "        print(user + ' is already registered')"
   ]
  },
  {
   "cell_type": "code",
   "execution_count": null,
   "metadata": {},
   "outputs": [],
   "source": [
    "# Exercise 5-11\n",
    "numbers = [1, 2, 3, 4, 5, 6, 7, 8, 9]\n",
    "ordinal_number = []\n",
    "for number in numbers:\n",
    "    if number == 1:\n",
    "        ordinal_number.append(str(number) + 'st')\n",
    "    elif number == 2:\n",
    "        ordinal_number.append(str(number) + 'nd')\n",
    "    elif number == 3:\n",
    "        ordinal_number.append(str(number) + 'rd')"
   ]
  }
 ],
 "metadata": {
  "kernelspec": {
   "display_name": "Python 3",
   "language": "python",
   "name": "python3"
  },
  "language_info": {
   "codemirror_mode": {
    "name": "ipython",
    "version": 3
   },
   "file_extension": ".py",
   "mimetype": "text/x-python",
   "name": "python",
   "nbconvert_exporter": "python",
   "pygments_lexer": "ipython3",
   "version": "3.6.8"
  }
 },
 "nbformat": 4,
 "nbformat_minor": 2
}
